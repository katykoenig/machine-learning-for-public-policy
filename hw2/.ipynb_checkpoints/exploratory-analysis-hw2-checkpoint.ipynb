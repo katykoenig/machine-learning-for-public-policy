{
 "cells": [
  {
   "cell_type": "code",
   "execution_count": 1,
   "metadata": {},
   "outputs": [],
   "source": [
    "import matplotlib.pyplot as plt\n",
    "import numpy as np\n",
    "import pandas as pd\n",
    "import seaborn as sns\n",
    "import plotnine as p9\n",
    "import sklearn.tree as tree\n",
    "from sklearn.tree import DecisionTreeClassifier, export_graphviz\n",
    "from sklearn.neighbors import KNeighborsClassifier\n",
    "from sklearn.model_selection import train_test_split\n",
    "from sklearn.metrics import accuracy_score as accuracy\n",
    "import graphviz\n",
    "%matplotlib inline\n",
    "import pydotplus"
   ]
  },
  {
   "cell_type": "code",
   "execution_count": 2,
   "metadata": {},
   "outputs": [],
   "source": [
    "data_dict_df = pd.read_excel('Data Dictionary.xls')"
   ]
  },
  {
   "cell_type": "code",
   "execution_count": 3,
   "metadata": {},
   "outputs": [
    {
     "data": {
      "text/html": [
       "<div>\n",
       "<style scoped>\n",
       "    .dataframe tbody tr th:only-of-type {\n",
       "        vertical-align: middle;\n",
       "    }\n",
       "\n",
       "    .dataframe tbody tr th {\n",
       "        vertical-align: top;\n",
       "    }\n",
       "\n",
       "    .dataframe thead th {\n",
       "        text-align: right;\n",
       "    }\n",
       "</style>\n",
       "<table border=\"1\" class=\"dataframe\">\n",
       "  <thead>\n",
       "    <tr style=\"text-align: right;\">\n",
       "      <th></th>\n",
       "      <th>Unnamed: 0</th>\n",
       "      <th>Unnamed: 1</th>\n",
       "      <th>Unnamed: 2</th>\n",
       "    </tr>\n",
       "  </thead>\n",
       "  <tbody>\n",
       "    <tr>\n",
       "      <th>0</th>\n",
       "      <td>Variable Name</td>\n",
       "      <td>Description</td>\n",
       "      <td>Type</td>\n",
       "    </tr>\n",
       "    <tr>\n",
       "      <th>1</th>\n",
       "      <td>SeriousDlqin2yrs</td>\n",
       "      <td>Person experienced 90 days past due delinquenc...</td>\n",
       "      <td>Y/N</td>\n",
       "    </tr>\n",
       "    <tr>\n",
       "      <th>2</th>\n",
       "      <td>RevolvingUtilizationOfUnsecuredLines</td>\n",
       "      <td>Total balance on credit cards and personal lin...</td>\n",
       "      <td>percentage</td>\n",
       "    </tr>\n",
       "    <tr>\n",
       "      <th>3</th>\n",
       "      <td>age</td>\n",
       "      <td>Age of borrower in years</td>\n",
       "      <td>integer</td>\n",
       "    </tr>\n",
       "    <tr>\n",
       "      <th>4</th>\n",
       "      <td>NumberOfTime30-59DaysPastDueNotWorse</td>\n",
       "      <td>Number of times borrower has been 30-59 days p...</td>\n",
       "      <td>integer</td>\n",
       "    </tr>\n",
       "    <tr>\n",
       "      <th>5</th>\n",
       "      <td>zipcode</td>\n",
       "      <td>zipcode of the borrower</td>\n",
       "      <td>interget/string</td>\n",
       "    </tr>\n",
       "    <tr>\n",
       "      <th>6</th>\n",
       "      <td>DebtRatio</td>\n",
       "      <td>Monthly debt payments, alimony,living costs di...</td>\n",
       "      <td>percentage</td>\n",
       "    </tr>\n",
       "    <tr>\n",
       "      <th>7</th>\n",
       "      <td>MonthlyIncome</td>\n",
       "      <td>Monthly income</td>\n",
       "      <td>real</td>\n",
       "    </tr>\n",
       "    <tr>\n",
       "      <th>8</th>\n",
       "      <td>NumberOfOpenCreditLinesAndLoans</td>\n",
       "      <td>Number of Open loans (installment like car loa...</td>\n",
       "      <td>integer</td>\n",
       "    </tr>\n",
       "    <tr>\n",
       "      <th>9</th>\n",
       "      <td>NumberOfTimes90DaysLate</td>\n",
       "      <td>Number of times borrower has been 90 days or m...</td>\n",
       "      <td>integer</td>\n",
       "    </tr>\n",
       "    <tr>\n",
       "      <th>10</th>\n",
       "      <td>NumberRealEstateLoansOrLines</td>\n",
       "      <td>Number of mortgage and real estate loans inclu...</td>\n",
       "      <td>integer</td>\n",
       "    </tr>\n",
       "    <tr>\n",
       "      <th>11</th>\n",
       "      <td>NumberOfTime60-89DaysPastDueNotWorse</td>\n",
       "      <td>Number of times borrower has been 60-89 days p...</td>\n",
       "      <td>integer</td>\n",
       "    </tr>\n",
       "    <tr>\n",
       "      <th>12</th>\n",
       "      <td>NumberOfDependents</td>\n",
       "      <td>Number of dependents in family excluding thems...</td>\n",
       "      <td>integer</td>\n",
       "    </tr>\n",
       "  </tbody>\n",
       "</table>\n",
       "</div>"
      ],
      "text/plain": [
       "                              Unnamed: 0  \\\n",
       "0                          Variable Name   \n",
       "1                       SeriousDlqin2yrs   \n",
       "2   RevolvingUtilizationOfUnsecuredLines   \n",
       "3                                    age   \n",
       "4   NumberOfTime30-59DaysPastDueNotWorse   \n",
       "5                                zipcode   \n",
       "6                              DebtRatio   \n",
       "7                          MonthlyIncome   \n",
       "8        NumberOfOpenCreditLinesAndLoans   \n",
       "9                NumberOfTimes90DaysLate   \n",
       "10          NumberRealEstateLoansOrLines   \n",
       "11  NumberOfTime60-89DaysPastDueNotWorse   \n",
       "12                    NumberOfDependents   \n",
       "\n",
       "                                           Unnamed: 1       Unnamed: 2  \n",
       "0                                         Description             Type  \n",
       "1   Person experienced 90 days past due delinquenc...              Y/N  \n",
       "2   Total balance on credit cards and personal lin...       percentage  \n",
       "3                            Age of borrower in years          integer  \n",
       "4   Number of times borrower has been 30-59 days p...          integer  \n",
       "5                             zipcode of the borrower  interget/string  \n",
       "6   Monthly debt payments, alimony,living costs di...       percentage  \n",
       "7                                      Monthly income             real  \n",
       "8   Number of Open loans (installment like car loa...          integer  \n",
       "9   Number of times borrower has been 90 days or m...          integer  \n",
       "10  Number of mortgage and real estate loans inclu...          integer  \n",
       "11  Number of times borrower has been 60-89 days p...          integer  \n",
       "12  Number of dependents in family excluding thems...          integer  "
      ]
     },
     "execution_count": 3,
     "metadata": {},
     "output_type": "execute_result"
    }
   ],
   "source": [
    "data_dict_df"
   ]
  },
  {
   "cell_type": "code",
   "execution_count": 4,
   "metadata": {},
   "outputs": [
    {
     "data": {
      "text/plain": [
       "Index(['Unnamed: 0', 'Unnamed: 1', 'Unnamed: 2'], dtype='object')"
      ]
     },
     "execution_count": 4,
     "metadata": {},
     "output_type": "execute_result"
    }
   ],
   "source": [
    "data_dict_df.columns"
   ]
  },
  {
   "cell_type": "code",
   "execution_count": 5,
   "metadata": {},
   "outputs": [],
   "source": [
    "credit_df = pd.read_csv('credit-data.csv', index_col='PersonID')"
   ]
  },
  {
   "cell_type": "code",
   "execution_count": 6,
   "metadata": {},
   "outputs": [
    {
     "data": {
      "text/html": [
       "<div>\n",
       "<style scoped>\n",
       "    .dataframe tbody tr th:only-of-type {\n",
       "        vertical-align: middle;\n",
       "    }\n",
       "\n",
       "    .dataframe tbody tr th {\n",
       "        vertical-align: top;\n",
       "    }\n",
       "\n",
       "    .dataframe thead th {\n",
       "        text-align: right;\n",
       "    }\n",
       "</style>\n",
       "<table border=\"1\" class=\"dataframe\">\n",
       "  <thead>\n",
       "    <tr style=\"text-align: right;\">\n",
       "      <th></th>\n",
       "      <th>SeriousDlqin2yrs</th>\n",
       "      <th>RevolvingUtilizationOfUnsecuredLines</th>\n",
       "      <th>age</th>\n",
       "      <th>zipcode</th>\n",
       "      <th>NumberOfTime30-59DaysPastDueNotWorse</th>\n",
       "      <th>DebtRatio</th>\n",
       "      <th>MonthlyIncome</th>\n",
       "      <th>NumberOfOpenCreditLinesAndLoans</th>\n",
       "      <th>NumberOfTimes90DaysLate</th>\n",
       "      <th>NumberRealEstateLoansOrLines</th>\n",
       "      <th>NumberOfTime60-89DaysPastDueNotWorse</th>\n",
       "      <th>NumberOfDependents</th>\n",
       "    </tr>\n",
       "    <tr>\n",
       "      <th>PersonID</th>\n",
       "      <th></th>\n",
       "      <th></th>\n",
       "      <th></th>\n",
       "      <th></th>\n",
       "      <th></th>\n",
       "      <th></th>\n",
       "      <th></th>\n",
       "      <th></th>\n",
       "      <th></th>\n",
       "      <th></th>\n",
       "      <th></th>\n",
       "      <th></th>\n",
       "    </tr>\n",
       "  </thead>\n",
       "  <tbody>\n",
       "    <tr>\n",
       "      <th>98976</th>\n",
       "      <td>0</td>\n",
       "      <td>1.000000</td>\n",
       "      <td>55</td>\n",
       "      <td>60601</td>\n",
       "      <td>0</td>\n",
       "      <td>505.000000</td>\n",
       "      <td>0.0</td>\n",
       "      <td>2</td>\n",
       "      <td>0</td>\n",
       "      <td>0</td>\n",
       "      <td>0</td>\n",
       "      <td>0.0</td>\n",
       "    </tr>\n",
       "    <tr>\n",
       "      <th>98991</th>\n",
       "      <td>0</td>\n",
       "      <td>0.547745</td>\n",
       "      <td>71</td>\n",
       "      <td>60601</td>\n",
       "      <td>0</td>\n",
       "      <td>0.459565</td>\n",
       "      <td>15666.0</td>\n",
       "      <td>7</td>\n",
       "      <td>0</td>\n",
       "      <td>2</td>\n",
       "      <td>0</td>\n",
       "      <td>0.0</td>\n",
       "    </tr>\n",
       "    <tr>\n",
       "      <th>99012</th>\n",
       "      <td>0</td>\n",
       "      <td>0.044280</td>\n",
       "      <td>51</td>\n",
       "      <td>60601</td>\n",
       "      <td>0</td>\n",
       "      <td>0.014520</td>\n",
       "      <td>4200.0</td>\n",
       "      <td>5</td>\n",
       "      <td>0</td>\n",
       "      <td>0</td>\n",
       "      <td>0</td>\n",
       "      <td>0.0</td>\n",
       "    </tr>\n",
       "    <tr>\n",
       "      <th>99023</th>\n",
       "      <td>0</td>\n",
       "      <td>0.914249</td>\n",
       "      <td>55</td>\n",
       "      <td>60601</td>\n",
       "      <td>4</td>\n",
       "      <td>0.794875</td>\n",
       "      <td>9052.0</td>\n",
       "      <td>12</td>\n",
       "      <td>0</td>\n",
       "      <td>3</td>\n",
       "      <td>0</td>\n",
       "      <td>0.0</td>\n",
       "    </tr>\n",
       "    <tr>\n",
       "      <th>99027</th>\n",
       "      <td>0</td>\n",
       "      <td>0.026599</td>\n",
       "      <td>45</td>\n",
       "      <td>60601</td>\n",
       "      <td>0</td>\n",
       "      <td>0.049966</td>\n",
       "      <td>10406.0</td>\n",
       "      <td>4</td>\n",
       "      <td>0</td>\n",
       "      <td>0</td>\n",
       "      <td>0</td>\n",
       "      <td>2.0</td>\n",
       "    </tr>\n",
       "  </tbody>\n",
       "</table>\n",
       "</div>"
      ],
      "text/plain": [
       "          SeriousDlqin2yrs  RevolvingUtilizationOfUnsecuredLines  age  \\\n",
       "PersonID                                                                \n",
       "98976                    0                              1.000000   55   \n",
       "98991                    0                              0.547745   71   \n",
       "99012                    0                              0.044280   51   \n",
       "99023                    0                              0.914249   55   \n",
       "99027                    0                              0.026599   45   \n",
       "\n",
       "          zipcode  NumberOfTime30-59DaysPastDueNotWorse   DebtRatio  \\\n",
       "PersonID                                                              \n",
       "98976       60601                                     0  505.000000   \n",
       "98991       60601                                     0    0.459565   \n",
       "99012       60601                                     0    0.014520   \n",
       "99023       60601                                     4    0.794875   \n",
       "99027       60601                                     0    0.049966   \n",
       "\n",
       "          MonthlyIncome  NumberOfOpenCreditLinesAndLoans  \\\n",
       "PersonID                                                   \n",
       "98976               0.0                                2   \n",
       "98991           15666.0                                7   \n",
       "99012            4200.0                                5   \n",
       "99023            9052.0                               12   \n",
       "99027           10406.0                                4   \n",
       "\n",
       "          NumberOfTimes90DaysLate  NumberRealEstateLoansOrLines  \\\n",
       "PersonID                                                          \n",
       "98976                           0                             0   \n",
       "98991                           0                             2   \n",
       "99012                           0                             0   \n",
       "99023                           0                             3   \n",
       "99027                           0                             0   \n",
       "\n",
       "          NumberOfTime60-89DaysPastDueNotWorse  NumberOfDependents  \n",
       "PersonID                                                            \n",
       "98976                                        0                 0.0  \n",
       "98991                                        0                 0.0  \n",
       "99012                                        0                 0.0  \n",
       "99023                                        0                 0.0  \n",
       "99027                                        0                 2.0  "
      ]
     },
     "execution_count": 6,
     "metadata": {},
     "output_type": "execute_result"
    }
   ],
   "source": [
    "credit_df.head()"
   ]
  },
  {
   "cell_type": "code",
   "execution_count": 7,
   "metadata": {},
   "outputs": [
    {
     "data": {
      "text/plain": [
       "SeriousDlqin2yrs                          int64\n",
       "RevolvingUtilizationOfUnsecuredLines    float64\n",
       "age                                       int64\n",
       "zipcode                                   int64\n",
       "NumberOfTime30-59DaysPastDueNotWorse      int64\n",
       "DebtRatio                               float64\n",
       "MonthlyIncome                           float64\n",
       "NumberOfOpenCreditLinesAndLoans           int64\n",
       "NumberOfTimes90DaysLate                   int64\n",
       "NumberRealEstateLoansOrLines              int64\n",
       "NumberOfTime60-89DaysPastDueNotWorse      int64\n",
       "NumberOfDependents                      float64\n",
       "dtype: object"
      ]
     },
     "execution_count": 7,
     "metadata": {},
     "output_type": "execute_result"
    }
   ],
   "source": [
    "credit_df.dtypes"
   ]
  },
  {
   "cell_type": "code",
   "execution_count": 8,
   "metadata": {},
   "outputs": [
    {
     "data": {
      "text/html": [
       "<div>\n",
       "<style scoped>\n",
       "    .dataframe tbody tr th:only-of-type {\n",
       "        vertical-align: middle;\n",
       "    }\n",
       "\n",
       "    .dataframe tbody tr th {\n",
       "        vertical-align: top;\n",
       "    }\n",
       "\n",
       "    .dataframe thead th {\n",
       "        text-align: right;\n",
       "    }\n",
       "</style>\n",
       "<table border=\"1\" class=\"dataframe\">\n",
       "  <thead>\n",
       "    <tr style=\"text-align: right;\">\n",
       "      <th></th>\n",
       "      <th>median</th>\n",
       "      <th>mean</th>\n",
       "      <th>max</th>\n",
       "      <th>min</th>\n",
       "    </tr>\n",
       "  </thead>\n",
       "  <tbody>\n",
       "    <tr>\n",
       "      <th>SeriousDlqin2yrs</th>\n",
       "      <td>0.000000</td>\n",
       "      <td>0.161400</td>\n",
       "      <td>1.0</td>\n",
       "      <td>0.0</td>\n",
       "    </tr>\n",
       "    <tr>\n",
       "      <th>RevolvingUtilizationOfUnsecuredLines</th>\n",
       "      <td>0.189730</td>\n",
       "      <td>6.375870</td>\n",
       "      <td>22000.0</td>\n",
       "      <td>0.0</td>\n",
       "    </tr>\n",
       "    <tr>\n",
       "      <th>age</th>\n",
       "      <td>51.000000</td>\n",
       "      <td>51.683489</td>\n",
       "      <td>109.0</td>\n",
       "      <td>21.0</td>\n",
       "    </tr>\n",
       "    <tr>\n",
       "      <th>zipcode</th>\n",
       "      <td>60625.000000</td>\n",
       "      <td>60623.824166</td>\n",
       "      <td>60644.0</td>\n",
       "      <td>60601.0</td>\n",
       "    </tr>\n",
       "    <tr>\n",
       "      <th>NumberOfTime30-59DaysPastDueNotWorse</th>\n",
       "      <td>0.000000</td>\n",
       "      <td>0.589233</td>\n",
       "      <td>98.0</td>\n",
       "      <td>0.0</td>\n",
       "    </tr>\n",
       "    <tr>\n",
       "      <th>DebtRatio</th>\n",
       "      <td>0.369736</td>\n",
       "      <td>331.458137</td>\n",
       "      <td>106885.0</td>\n",
       "      <td>0.0</td>\n",
       "    </tr>\n",
       "    <tr>\n",
       "      <th>MonthlyIncome</th>\n",
       "      <td>5250.000000</td>\n",
       "      <td>6578.995733</td>\n",
       "      <td>1794060.0</td>\n",
       "      <td>0.0</td>\n",
       "    </tr>\n",
       "    <tr>\n",
       "      <th>NumberOfOpenCreditLinesAndLoans</th>\n",
       "      <td>8.000000</td>\n",
       "      <td>8.403477</td>\n",
       "      <td>56.0</td>\n",
       "      <td>0.0</td>\n",
       "    </tr>\n",
       "    <tr>\n",
       "      <th>NumberOfTimes90DaysLate</th>\n",
       "      <td>0.000000</td>\n",
       "      <td>0.419592</td>\n",
       "      <td>98.0</td>\n",
       "      <td>0.0</td>\n",
       "    </tr>\n",
       "    <tr>\n",
       "      <th>NumberRealEstateLoansOrLines</th>\n",
       "      <td>1.000000</td>\n",
       "      <td>1.008801</td>\n",
       "      <td>32.0</td>\n",
       "      <td>0.0</td>\n",
       "    </tr>\n",
       "    <tr>\n",
       "      <th>NumberOfTime60-89DaysPastDueNotWorse</th>\n",
       "      <td>0.000000</td>\n",
       "      <td>0.371587</td>\n",
       "      <td>98.0</td>\n",
       "      <td>0.0</td>\n",
       "    </tr>\n",
       "    <tr>\n",
       "      <th>NumberOfDependents</th>\n",
       "      <td>0.000000</td>\n",
       "      <td>0.773231</td>\n",
       "      <td>13.0</td>\n",
       "      <td>0.0</td>\n",
       "    </tr>\n",
       "  </tbody>\n",
       "</table>\n",
       "</div>"
      ],
      "text/plain": [
       "                                            median          mean        max  \\\n",
       "SeriousDlqin2yrs                          0.000000      0.161400        1.0   \n",
       "RevolvingUtilizationOfUnsecuredLines      0.189730      6.375870    22000.0   \n",
       "age                                      51.000000     51.683489      109.0   \n",
       "zipcode                               60625.000000  60623.824166    60644.0   \n",
       "NumberOfTime30-59DaysPastDueNotWorse      0.000000      0.589233       98.0   \n",
       "DebtRatio                                 0.369736    331.458137   106885.0   \n",
       "MonthlyIncome                          5250.000000   6578.995733  1794060.0   \n",
       "NumberOfOpenCreditLinesAndLoans           8.000000      8.403477       56.0   \n",
       "NumberOfTimes90DaysLate                   0.000000      0.419592       98.0   \n",
       "NumberRealEstateLoansOrLines              1.000000      1.008801       32.0   \n",
       "NumberOfTime60-89DaysPastDueNotWorse      0.000000      0.371587       98.0   \n",
       "NumberOfDependents                        0.000000      0.773231       13.0   \n",
       "\n",
       "                                          min  \n",
       "SeriousDlqin2yrs                          0.0  \n",
       "RevolvingUtilizationOfUnsecuredLines      0.0  \n",
       "age                                      21.0  \n",
       "zipcode                               60601.0  \n",
       "NumberOfTime30-59DaysPastDueNotWorse      0.0  \n",
       "DebtRatio                                 0.0  \n",
       "MonthlyIncome                             0.0  \n",
       "NumberOfOpenCreditLinesAndLoans           0.0  \n",
       "NumberOfTimes90DaysLate                   0.0  \n",
       "NumberRealEstateLoansOrLines              0.0  \n",
       "NumberOfTime60-89DaysPastDueNotWorse      0.0  \n",
       "NumberOfDependents                        0.0  "
      ]
     },
     "execution_count": 8,
     "metadata": {},
     "output_type": "execute_result"
    }
   ],
   "source": [
    "stats_df = credit_df.agg(['median', 'mean', 'max', 'min'])\n",
    "stats_df.T"
   ]
  },
  {
   "cell_type": "markdown",
   "metadata": {},
   "source": [
    "Check for nulls across columns"
   ]
  },
  {
   "cell_type": "code",
   "execution_count": 9,
   "metadata": {},
   "outputs": [
    {
     "data": {
      "text/plain": [
       "SeriousDlqin2yrs                           0\n",
       "RevolvingUtilizationOfUnsecuredLines       0\n",
       "age                                        0\n",
       "zipcode                                    0\n",
       "NumberOfTime30-59DaysPastDueNotWorse       0\n",
       "DebtRatio                                  0\n",
       "MonthlyIncome                           7974\n",
       "NumberOfOpenCreditLinesAndLoans            0\n",
       "NumberOfTimes90DaysLate                    0\n",
       "NumberRealEstateLoansOrLines               0\n",
       "NumberOfTime60-89DaysPastDueNotWorse       0\n",
       "NumberOfDependents                      1037\n",
       "dtype: int64"
      ]
     },
     "execution_count": 9,
     "metadata": {},
     "output_type": "execute_result"
    }
   ],
   "source": [
    "credit_df.isnull().sum(axis=0)"
   ]
  },
  {
   "cell_type": "markdown",
   "metadata": {},
   "source": [
    "reset_df = credit_df.reset_index()\n",
    "for column in reset_df.columns:\n",
    "    print(p9.ggplot(reset_df, p9.aes(x=column, y='PersonID')) + p9.geom_point())"
   ]
  },
  {
   "cell_type": "markdown",
   "metadata": {},
   "source": [
    "Fill NaNs/Nulls w/ Medians"
   ]
  },
  {
   "cell_type": "code",
   "execution_count": 10,
   "metadata": {},
   "outputs": [],
   "source": [
    "credit_df.fillna(credit_df.median(), inplace=True)"
   ]
  },
  {
   "cell_type": "markdown",
   "metadata": {},
   "source": [
    "Correlation between variables"
   ]
  },
  {
   "cell_type": "code",
   "execution_count": 11,
   "metadata": {},
   "outputs": [
    {
     "data": {
      "text/html": [
       "<div>\n",
       "<style scoped>\n",
       "    .dataframe tbody tr th:only-of-type {\n",
       "        vertical-align: middle;\n",
       "    }\n",
       "\n",
       "    .dataframe tbody tr th {\n",
       "        vertical-align: top;\n",
       "    }\n",
       "\n",
       "    .dataframe thead th {\n",
       "        text-align: right;\n",
       "    }\n",
       "</style>\n",
       "<table border=\"1\" class=\"dataframe\">\n",
       "  <thead>\n",
       "    <tr style=\"text-align: right;\">\n",
       "      <th></th>\n",
       "      <th>SeriousDlqin2yrs</th>\n",
       "      <th>RevolvingUtilizationOfUnsecuredLines</th>\n",
       "      <th>age</th>\n",
       "      <th>zipcode</th>\n",
       "      <th>NumberOfTime30-59DaysPastDueNotWorse</th>\n",
       "      <th>DebtRatio</th>\n",
       "      <th>MonthlyIncome</th>\n",
       "      <th>NumberOfOpenCreditLinesAndLoans</th>\n",
       "      <th>NumberOfTimes90DaysLate</th>\n",
       "      <th>NumberRealEstateLoansOrLines</th>\n",
       "      <th>NumberOfTime60-89DaysPastDueNotWorse</th>\n",
       "      <th>NumberOfDependents</th>\n",
       "    </tr>\n",
       "  </thead>\n",
       "  <tbody>\n",
       "    <tr>\n",
       "      <th>SeriousDlqin2yrs</th>\n",
       "      <td>1.000000</td>\n",
       "      <td>-0.004586</td>\n",
       "      <td>-0.173728</td>\n",
       "      <td>-0.045051</td>\n",
       "      <td>0.149334</td>\n",
       "      <td>-0.013502</td>\n",
       "      <td>-0.028426</td>\n",
       "      <td>-0.039898</td>\n",
       "      <td>0.139609</td>\n",
       "      <td>-0.010641</td>\n",
       "      <td>0.121886</td>\n",
       "      <td>0.066806</td>\n",
       "    </tr>\n",
       "    <tr>\n",
       "      <th>RevolvingUtilizationOfUnsecuredLines</th>\n",
       "      <td>-0.004586</td>\n",
       "      <td>1.000000</td>\n",
       "      <td>-0.008003</td>\n",
       "      <td>0.006009</td>\n",
       "      <td>-0.001999</td>\n",
       "      <td>0.022250</td>\n",
       "      <td>0.004875</td>\n",
       "      <td>-0.014590</td>\n",
       "      <td>-0.001686</td>\n",
       "      <td>0.004763</td>\n",
       "      <td>-0.001413</td>\n",
       "      <td>0.005247</td>\n",
       "    </tr>\n",
       "    <tr>\n",
       "      <th>age</th>\n",
       "      <td>-0.173728</td>\n",
       "      <td>-0.008003</td>\n",
       "      <td>1.000000</td>\n",
       "      <td>0.005408</td>\n",
       "      <td>-0.068696</td>\n",
       "      <td>0.038828</td>\n",
       "      <td>0.036359</td>\n",
       "      <td>0.159866</td>\n",
       "      <td>-0.069036</td>\n",
       "      <td>0.049168</td>\n",
       "      <td>-0.063622</td>\n",
       "      <td>-0.213304</td>\n",
       "    </tr>\n",
       "    <tr>\n",
       "      <th>zipcode</th>\n",
       "      <td>-0.045051</td>\n",
       "      <td>0.006009</td>\n",
       "      <td>0.005408</td>\n",
       "      <td>1.000000</td>\n",
       "      <td>-0.002424</td>\n",
       "      <td>0.002088</td>\n",
       "      <td>-0.004637</td>\n",
       "      <td>-0.009214</td>\n",
       "      <td>-0.001487</td>\n",
       "      <td>0.003141</td>\n",
       "      <td>-0.001198</td>\n",
       "      <td>-0.001753</td>\n",
       "    </tr>\n",
       "    <tr>\n",
       "      <th>NumberOfTime30-59DaysPastDueNotWorse</th>\n",
       "      <td>0.149334</td>\n",
       "      <td>-0.001999</td>\n",
       "      <td>-0.068696</td>\n",
       "      <td>-0.002424</td>\n",
       "      <td>1.000000</td>\n",
       "      <td>-0.011620</td>\n",
       "      <td>-0.012390</td>\n",
       "      <td>-0.070704</td>\n",
       "      <td>0.984465</td>\n",
       "      <td>-0.037863</td>\n",
       "      <td>0.988530</td>\n",
       "      <td>-0.009252</td>\n",
       "    </tr>\n",
       "    <tr>\n",
       "      <th>DebtRatio</th>\n",
       "      <td>-0.013502</td>\n",
       "      <td>0.022250</td>\n",
       "      <td>0.038828</td>\n",
       "      <td>0.002088</td>\n",
       "      <td>-0.011620</td>\n",
       "      <td>1.000000</td>\n",
       "      <td>-0.029113</td>\n",
       "      <td>0.082791</td>\n",
       "      <td>-0.014790</td>\n",
       "      <td>0.177858</td>\n",
       "      <td>-0.013290</td>\n",
       "      <td>-0.072998</td>\n",
       "    </tr>\n",
       "    <tr>\n",
       "      <th>MonthlyIncome</th>\n",
       "      <td>-0.028426</td>\n",
       "      <td>0.004875</td>\n",
       "      <td>0.036359</td>\n",
       "      <td>-0.004637</td>\n",
       "      <td>-0.012390</td>\n",
       "      <td>-0.029113</td>\n",
       "      <td>1.000000</td>\n",
       "      <td>0.101440</td>\n",
       "      <td>-0.014679</td>\n",
       "      <td>0.119213</td>\n",
       "      <td>-0.012717</td>\n",
       "      <td>0.065438</td>\n",
       "    </tr>\n",
       "    <tr>\n",
       "      <th>NumberOfOpenCreditLinesAndLoans</th>\n",
       "      <td>-0.039898</td>\n",
       "      <td>-0.014590</td>\n",
       "      <td>0.159866</td>\n",
       "      <td>-0.009214</td>\n",
       "      <td>-0.070704</td>\n",
       "      <td>0.082791</td>\n",
       "      <td>0.101440</td>\n",
       "      <td>1.000000</td>\n",
       "      <td>-0.098176</td>\n",
       "      <td>0.442776</td>\n",
       "      <td>-0.087154</td>\n",
       "      <td>0.068469</td>\n",
       "    </tr>\n",
       "    <tr>\n",
       "      <th>NumberOfTimes90DaysLate</th>\n",
       "      <td>0.139609</td>\n",
       "      <td>-0.001686</td>\n",
       "      <td>-0.069036</td>\n",
       "      <td>-0.001487</td>\n",
       "      <td>0.984465</td>\n",
       "      <td>-0.014790</td>\n",
       "      <td>-0.014679</td>\n",
       "      <td>-0.098176</td>\n",
       "      <td>1.000000</td>\n",
       "      <td>-0.054661</td>\n",
       "      <td>0.992143</td>\n",
       "      <td>-0.017061</td>\n",
       "    </tr>\n",
       "    <tr>\n",
       "      <th>NumberRealEstateLoansOrLines</th>\n",
       "      <td>-0.010641</td>\n",
       "      <td>0.004763</td>\n",
       "      <td>0.049168</td>\n",
       "      <td>0.003141</td>\n",
       "      <td>-0.037863</td>\n",
       "      <td>0.177858</td>\n",
       "      <td>0.119213</td>\n",
       "      <td>0.442776</td>\n",
       "      <td>-0.054661</td>\n",
       "      <td>1.000000</td>\n",
       "      <td>-0.047996</td>\n",
       "      <td>0.119444</td>\n",
       "    </tr>\n",
       "    <tr>\n",
       "      <th>NumberOfTime60-89DaysPastDueNotWorse</th>\n",
       "      <td>0.121886</td>\n",
       "      <td>-0.001413</td>\n",
       "      <td>-0.063622</td>\n",
       "      <td>-0.001198</td>\n",
       "      <td>0.988530</td>\n",
       "      <td>-0.013290</td>\n",
       "      <td>-0.012717</td>\n",
       "      <td>-0.087154</td>\n",
       "      <td>0.992143</td>\n",
       "      <td>-0.047996</td>\n",
       "      <td>1.000000</td>\n",
       "      <td>-0.017850</td>\n",
       "    </tr>\n",
       "    <tr>\n",
       "      <th>NumberOfDependents</th>\n",
       "      <td>0.066806</td>\n",
       "      <td>0.005247</td>\n",
       "      <td>-0.213304</td>\n",
       "      <td>-0.001753</td>\n",
       "      <td>-0.009252</td>\n",
       "      <td>-0.072998</td>\n",
       "      <td>0.065438</td>\n",
       "      <td>0.068469</td>\n",
       "      <td>-0.017061</td>\n",
       "      <td>0.119444</td>\n",
       "      <td>-0.017850</td>\n",
       "      <td>1.000000</td>\n",
       "    </tr>\n",
       "  </tbody>\n",
       "</table>\n",
       "</div>"
      ],
      "text/plain": [
       "                                      SeriousDlqin2yrs  \\\n",
       "SeriousDlqin2yrs                              1.000000   \n",
       "RevolvingUtilizationOfUnsecuredLines         -0.004586   \n",
       "age                                          -0.173728   \n",
       "zipcode                                      -0.045051   \n",
       "NumberOfTime30-59DaysPastDueNotWorse          0.149334   \n",
       "DebtRatio                                    -0.013502   \n",
       "MonthlyIncome                                -0.028426   \n",
       "NumberOfOpenCreditLinesAndLoans              -0.039898   \n",
       "NumberOfTimes90DaysLate                       0.139609   \n",
       "NumberRealEstateLoansOrLines                 -0.010641   \n",
       "NumberOfTime60-89DaysPastDueNotWorse          0.121886   \n",
       "NumberOfDependents                            0.066806   \n",
       "\n",
       "                                      RevolvingUtilizationOfUnsecuredLines  \\\n",
       "SeriousDlqin2yrs                                                 -0.004586   \n",
       "RevolvingUtilizationOfUnsecuredLines                              1.000000   \n",
       "age                                                              -0.008003   \n",
       "zipcode                                                           0.006009   \n",
       "NumberOfTime30-59DaysPastDueNotWorse                             -0.001999   \n",
       "DebtRatio                                                         0.022250   \n",
       "MonthlyIncome                                                     0.004875   \n",
       "NumberOfOpenCreditLinesAndLoans                                  -0.014590   \n",
       "NumberOfTimes90DaysLate                                          -0.001686   \n",
       "NumberRealEstateLoansOrLines                                      0.004763   \n",
       "NumberOfTime60-89DaysPastDueNotWorse                             -0.001413   \n",
       "NumberOfDependents                                                0.005247   \n",
       "\n",
       "                                           age   zipcode  \\\n",
       "SeriousDlqin2yrs                     -0.173728 -0.045051   \n",
       "RevolvingUtilizationOfUnsecuredLines -0.008003  0.006009   \n",
       "age                                   1.000000  0.005408   \n",
       "zipcode                               0.005408  1.000000   \n",
       "NumberOfTime30-59DaysPastDueNotWorse -0.068696 -0.002424   \n",
       "DebtRatio                             0.038828  0.002088   \n",
       "MonthlyIncome                         0.036359 -0.004637   \n",
       "NumberOfOpenCreditLinesAndLoans       0.159866 -0.009214   \n",
       "NumberOfTimes90DaysLate              -0.069036 -0.001487   \n",
       "NumberRealEstateLoansOrLines          0.049168  0.003141   \n",
       "NumberOfTime60-89DaysPastDueNotWorse -0.063622 -0.001198   \n",
       "NumberOfDependents                   -0.213304 -0.001753   \n",
       "\n",
       "                                      NumberOfTime30-59DaysPastDueNotWorse  \\\n",
       "SeriousDlqin2yrs                                                  0.149334   \n",
       "RevolvingUtilizationOfUnsecuredLines                             -0.001999   \n",
       "age                                                              -0.068696   \n",
       "zipcode                                                          -0.002424   \n",
       "NumberOfTime30-59DaysPastDueNotWorse                              1.000000   \n",
       "DebtRatio                                                        -0.011620   \n",
       "MonthlyIncome                                                    -0.012390   \n",
       "NumberOfOpenCreditLinesAndLoans                                  -0.070704   \n",
       "NumberOfTimes90DaysLate                                           0.984465   \n",
       "NumberRealEstateLoansOrLines                                     -0.037863   \n",
       "NumberOfTime60-89DaysPastDueNotWorse                              0.988530   \n",
       "NumberOfDependents                                               -0.009252   \n",
       "\n",
       "                                      DebtRatio  MonthlyIncome  \\\n",
       "SeriousDlqin2yrs                      -0.013502      -0.028426   \n",
       "RevolvingUtilizationOfUnsecuredLines   0.022250       0.004875   \n",
       "age                                    0.038828       0.036359   \n",
       "zipcode                                0.002088      -0.004637   \n",
       "NumberOfTime30-59DaysPastDueNotWorse  -0.011620      -0.012390   \n",
       "DebtRatio                              1.000000      -0.029113   \n",
       "MonthlyIncome                         -0.029113       1.000000   \n",
       "NumberOfOpenCreditLinesAndLoans        0.082791       0.101440   \n",
       "NumberOfTimes90DaysLate               -0.014790      -0.014679   \n",
       "NumberRealEstateLoansOrLines           0.177858       0.119213   \n",
       "NumberOfTime60-89DaysPastDueNotWorse  -0.013290      -0.012717   \n",
       "NumberOfDependents                    -0.072998       0.065438   \n",
       "\n",
       "                                      NumberOfOpenCreditLinesAndLoans  \\\n",
       "SeriousDlqin2yrs                                            -0.039898   \n",
       "RevolvingUtilizationOfUnsecuredLines                        -0.014590   \n",
       "age                                                          0.159866   \n",
       "zipcode                                                     -0.009214   \n",
       "NumberOfTime30-59DaysPastDueNotWorse                        -0.070704   \n",
       "DebtRatio                                                    0.082791   \n",
       "MonthlyIncome                                                0.101440   \n",
       "NumberOfOpenCreditLinesAndLoans                              1.000000   \n",
       "NumberOfTimes90DaysLate                                     -0.098176   \n",
       "NumberRealEstateLoansOrLines                                 0.442776   \n",
       "NumberOfTime60-89DaysPastDueNotWorse                        -0.087154   \n",
       "NumberOfDependents                                           0.068469   \n",
       "\n",
       "                                      NumberOfTimes90DaysLate  \\\n",
       "SeriousDlqin2yrs                                     0.139609   \n",
       "RevolvingUtilizationOfUnsecuredLines                -0.001686   \n",
       "age                                                 -0.069036   \n",
       "zipcode                                             -0.001487   \n",
       "NumberOfTime30-59DaysPastDueNotWorse                 0.984465   \n",
       "DebtRatio                                           -0.014790   \n",
       "MonthlyIncome                                       -0.014679   \n",
       "NumberOfOpenCreditLinesAndLoans                     -0.098176   \n",
       "NumberOfTimes90DaysLate                              1.000000   \n",
       "NumberRealEstateLoansOrLines                        -0.054661   \n",
       "NumberOfTime60-89DaysPastDueNotWorse                 0.992143   \n",
       "NumberOfDependents                                  -0.017061   \n",
       "\n",
       "                                      NumberRealEstateLoansOrLines  \\\n",
       "SeriousDlqin2yrs                                         -0.010641   \n",
       "RevolvingUtilizationOfUnsecuredLines                      0.004763   \n",
       "age                                                       0.049168   \n",
       "zipcode                                                   0.003141   \n",
       "NumberOfTime30-59DaysPastDueNotWorse                     -0.037863   \n",
       "DebtRatio                                                 0.177858   \n",
       "MonthlyIncome                                             0.119213   \n",
       "NumberOfOpenCreditLinesAndLoans                           0.442776   \n",
       "NumberOfTimes90DaysLate                                  -0.054661   \n",
       "NumberRealEstateLoansOrLines                              1.000000   \n",
       "NumberOfTime60-89DaysPastDueNotWorse                     -0.047996   \n",
       "NumberOfDependents                                        0.119444   \n",
       "\n",
       "                                      NumberOfTime60-89DaysPastDueNotWorse  \\\n",
       "SeriousDlqin2yrs                                                  0.121886   \n",
       "RevolvingUtilizationOfUnsecuredLines                             -0.001413   \n",
       "age                                                              -0.063622   \n",
       "zipcode                                                          -0.001198   \n",
       "NumberOfTime30-59DaysPastDueNotWorse                              0.988530   \n",
       "DebtRatio                                                        -0.013290   \n",
       "MonthlyIncome                                                    -0.012717   \n",
       "NumberOfOpenCreditLinesAndLoans                                  -0.087154   \n",
       "NumberOfTimes90DaysLate                                           0.992143   \n",
       "NumberRealEstateLoansOrLines                                     -0.047996   \n",
       "NumberOfTime60-89DaysPastDueNotWorse                              1.000000   \n",
       "NumberOfDependents                                               -0.017850   \n",
       "\n",
       "                                      NumberOfDependents  \n",
       "SeriousDlqin2yrs                                0.066806  \n",
       "RevolvingUtilizationOfUnsecuredLines            0.005247  \n",
       "age                                            -0.213304  \n",
       "zipcode                                        -0.001753  \n",
       "NumberOfTime30-59DaysPastDueNotWorse           -0.009252  \n",
       "DebtRatio                                      -0.072998  \n",
       "MonthlyIncome                                   0.065438  \n",
       "NumberOfOpenCreditLinesAndLoans                 0.068469  \n",
       "NumberOfTimes90DaysLate                        -0.017061  \n",
       "NumberRealEstateLoansOrLines                    0.119444  \n",
       "NumberOfTime60-89DaysPastDueNotWorse           -0.017850  \n",
       "NumberOfDependents                              1.000000  "
      ]
     },
     "execution_count": 11,
     "metadata": {},
     "output_type": "execute_result"
    }
   ],
   "source": [
    "corr_df = credit_df.corr()\n",
    "corr_df"
   ]
  },
  {
   "cell_type": "code",
   "execution_count": 12,
   "metadata": {},
   "outputs": [],
   "source": [
    "drop_lst = []\n",
    "for column in corr_df.columns:\n",
    "    drop_lst += (corr_df.index[(abs(corr_df[column]) > 0.95) & (abs(corr_df[column]) < 1.00)].tolist())\n",
    "    to_drop = set(drop_lst)"
   ]
  },
  {
   "cell_type": "code",
   "execution_count": 13,
   "metadata": {},
   "outputs": [],
   "source": [
    "for column in list(to_drop)[1:]:\n",
    "    credit_df.drop([column], axis=1, inplace=True)"
   ]
  },
  {
   "cell_type": "code",
   "execution_count": 56,
   "metadata": {},
   "outputs": [
    {
     "data": {
      "text/plain": [
       "<matplotlib.axes._subplots.AxesSubplot at 0x1c28ea5da0>"
      ]
     },
     "execution_count": 56,
     "metadata": {},
     "output_type": "execute_result"
    },
    {
     "data": {
      "image/png": "[encoded data removed]",
      "text/plain": [
       "<Figure size 432x288 with 2 Axes>"
      ]
     },
     "metadata": {
      "needs_background": "light"
     },
     "output_type": "display_data"
    }
   ],
   "source": [
    "sns.heatmap(corr_df, xticklabels=corr_df.columns, yticklabels=corr_df.columns)"
   ]
  },
  {
   "cell_type": "markdown",
   "metadata": {},
   "source": [
    "As we can see in the table and heatmap above, the following variables are highly correlated: 'NumberOfTime30-59DaysPastDueNotWorse', 'NumberOfTime60-89DaysPastDueNotWorse', 'NumberOfTimes90DaysLate'\n",
    "\n",
    "Because of they exhibit (almost) perfect multicollinearity, we drop the variables 'NumberOfTime60-89DaysPastDueNotWorse', 'NumberOfTimes90DaysLate'"
   ]
  },
  {
   "cell_type": "code",
   "execution_count": 15,
   "metadata": {},
   "outputs": [
    {
     "data": {
      "text/plain": [
       "Index(['SeriousDlqin2yrs', 'RevolvingUtilizationOfUnsecuredLines', 'age',\n",
       "       'zipcode', 'DebtRatio', 'MonthlyIncome',\n",
       "       'NumberOfOpenCreditLinesAndLoans', 'NumberOfTimes90DaysLate',\n",
       "       'NumberRealEstateLoansOrLines', 'NumberOfDependents'],\n",
       "      dtype='object')"
      ]
     },
     "execution_count": 15,
     "metadata": {},
     "output_type": "execute_result"
    }
   ],
   "source": [
    "credit_df.columns"
   ]
  },
  {
   "cell_type": "code",
   "execution_count": 16,
   "metadata": {},
   "outputs": [],
   "source": [
    "credit_df['Freq_Late'] = np.where(credit_df['NumberOfTimes90DaysLate']>=15, 1, 0)"
   ]
  },
  {
   "cell_type": "code",
   "execution_count": 17,
   "metadata": {},
   "outputs": [],
   "source": [
    "credit_df.drop('NumberOfTimes90DaysLate', axis=1, inplace=True)"
   ]
  },
  {
   "cell_type": "code",
   "execution_count": 18,
   "metadata": {},
   "outputs": [
    {
     "data": {
      "text/plain": [
       "Index(['SeriousDlqin2yrs', 'RevolvingUtilizationOfUnsecuredLines', 'age',\n",
       "       'zipcode', 'DebtRatio', 'MonthlyIncome',\n",
       "       'NumberOfOpenCreditLinesAndLoans', 'NumberRealEstateLoansOrLines',\n",
       "       'NumberOfDependents', 'Freq_Late'],\n",
       "      dtype='object')"
      ]
     },
     "execution_count": 18,
     "metadata": {},
     "output_type": "execute_result"
    }
   ],
   "source": [
    "credit_df.columns"
   ]
  },
  {
   "cell_type": "code",
   "execution_count": 19,
   "metadata": {},
   "outputs": [],
   "source": [
    "credit_df['MonthlyIncome'] = pd.qcut(credit_df['MonthlyIncome'], 5, labels=[1, 2, 3, 4, 5])"
   ]
  },
  {
   "cell_type": "code",
   "execution_count": 20,
   "metadata": {},
   "outputs": [],
   "source": [
    "features_lst = [i for i in list(credit_df.columns) if i != 'SeriousDlqin2yrs']"
   ]
  },
  {
   "cell_type": "code",
   "execution_count": 21,
   "metadata": {},
   "outputs": [
    {
     "data": {
      "text/plain": [
       "['RevolvingUtilizationOfUnsecuredLines',\n",
       " 'age',\n",
       " 'zipcode',\n",
       " 'DebtRatio',\n",
       " 'MonthlyIncome',\n",
       " 'NumberOfOpenCreditLinesAndLoans',\n",
       " 'NumberRealEstateLoansOrLines',\n",
       " 'NumberOfDependents',\n",
       " 'Freq_Late']"
      ]
     },
     "execution_count": 21,
     "metadata": {},
     "output_type": "execute_result"
    }
   ],
   "source": [
    "features_lst"
   ]
  },
  {
   "cell_type": "code",
   "execution_count": 57,
   "metadata": {},
   "outputs": [],
   "source": [
    "target_att = 'SeriousDlqin2yrs'"
   ]
  },
  {
   "cell_type": "code",
   "execution_count": 59,
   "metadata": {},
   "outputs": [],
   "source": [
    "x = credit_df[features_lst]\n",
    "y = credit_df[target_att]\n",
    "test_size = 0.3\n",
    "x_train, x_test, y_train, y_test = train_test_split(x, y, test_size=0.3, random_state=57)"
   ]
  },
  {
   "cell_type": "code",
   "execution_count": 62,
   "metadata": {},
   "outputs": [
    {
     "name": "stdout",
     "output_type": "stream",
     "text": [
      "PersonID\n",
      "98976     0\n",
      "98991     0\n",
      "99012     0\n",
      "99023     0\n",
      "99027     0\n",
      "99033     0\n",
      "99044     0\n",
      "99048     0\n",
      "99056     0\n",
      "99058     0\n",
      "99062     0\n",
      "99104     0\n",
      "99105     0\n",
      "99145     0\n",
      "99147     0\n",
      "99176     0\n",
      "99193     0\n",
      "99200     0\n",
      "99206     0\n",
      "99217     0\n",
      "99218     0\n",
      "99224     0\n",
      "99233     0\n",
      "99238     0\n",
      "99246     0\n",
      "99249     0\n",
      "99262     0\n",
      "99267     0\n",
      "99271     0\n",
      "99284     0\n",
      "         ..\n",
      "123505    0\n",
      "123523    0\n",
      "123529    0\n",
      "123532    0\n",
      "123538    0\n",
      "123540    0\n",
      "123541    0\n",
      "123561    0\n",
      "123597    0\n",
      "123615    0\n",
      "123628    0\n",
      "123641    0\n",
      "123647    0\n",
      "123650    0\n",
      "123654    0\n",
      "123657    0\n",
      "123658    0\n",
      "123660    0\n",
      "123661    0\n",
      "123664    0\n",
      "123667    0\n",
      "123679    0\n",
      "123687    0\n",
      "123689    0\n",
      "123714    0\n",
      "123722    0\n",
      "123729    0\n",
      "123730    0\n",
      "123739    0\n",
      "123753    0\n",
      "Name: SeriousDlqin2yrs, Length: 41016, dtype: int64\n"
     ]
    }
   ],
   "source": [
    "print(y)"
   ]
  },
  {
   "cell_type": "code",
   "execution_count": 38,
   "metadata": {},
   "outputs": [
    {
     "data": {
      "text/plain": [
       "(12305,)"
      ]
     },
     "execution_count": 38,
     "metadata": {},
     "output_type": "execute_result"
    }
   ],
   "source": [
    "y_test.shape"
   ]
  },
  {
   "cell_type": "code",
   "execution_count": 50,
   "metadata": {},
   "outputs": [
    {
     "data": {
      "text/plain": [
       "DecisionTreeClassifier(class_weight=None, criterion='entropy', max_depth=5,\n",
       "            max_features=None, max_leaf_nodes=None,\n",
       "            min_impurity_decrease=0.0, min_impurity_split=None,\n",
       "            min_samples_leaf=1, min_samples_split=2,\n",
       "            min_weight_fraction_leaf=0.0, presort=False, random_state=None,\n",
       "            splitter='best')"
      ]
     },
     "execution_count": 50,
     "metadata": {},
     "output_type": "execute_result"
    }
   ],
   "source": [
    "dec_tree = DecisionTreeClassifier(criterion='entropy', max_depth=5)\n",
    "dec_tree.fit(x_train, y_train)"
   ]
  },
  {
   "cell_type": "code",
   "execution_count": 51,
   "metadata": {},
   "outputs": [
    {
     "data": {
      "text/plain": [
       "(array([3874., 3796.,  765.,  693.,  955.,  439., 1439.,    0.,    0.,\n",
       "         344.]),\n",
       " array([0.        , 0.06515323, 0.13030647, 0.1954597 , 0.26061294,\n",
       "        0.32576617, 0.39091941, 0.45607264, 0.52122588, 0.58637911,\n",
       "        0.65153235]),\n",
       " <a list of 10 Patch objects>)"
      ]
     },
     "execution_count": 51,
     "metadata": {},
     "output_type": "execute_result"
    },
    {
     "data": {
      "image/png": "[encoded data removed]",
      "text/plain": [
       "<Figure size 432x288 with 1 Axes>"
      ]
     },
     "metadata": {
      "needs_background": "light"
     },
     "output_type": "display_data"
    }
   ],
   "source": [
    "predicted_scores_test = dec_tree.predict_proba(x_test)[:,1]\n",
    "plt.hist(predicted_scores_test)"
   ]
  },
  {
   "cell_type": "code",
   "execution_count": 52,
   "metadata": {},
   "outputs": [
    {
     "name": "stdout",
     "output_type": "stream",
     "text": [
      "0.8349451442503047\n"
     ]
    }
   ],
   "source": [
    "threshold = 0.4\n",
    "calc_threshold = lambda x,y: 0 if x < y else 1 \n",
    "predicted_test = np.array( [calc_threshold(score, threshold) for score in predicted_scores_test] )\n",
    "test_acc = accuracy(predicted_test, y_test)\n",
    "print(test_acc)"
   ]
  },
  {
   "cell_type": "code",
   "execution_count": 42,
   "metadata": {},
   "outputs": [
    {
     "data": {
      "text/plain": [
       "array([0, 0, 0, ..., 0, 1, 1])"
      ]
     },
     "execution_count": 42,
     "metadata": {},
     "output_type": "execute_result"
    }
   ],
   "source": [
    "predicted_test"
   ]
  },
  {
   "cell_type": "code",
   "execution_count": 43,
   "metadata": {},
   "outputs": [
    {
     "name": "stdout",
     "output_type": "stream",
     "text": [
      "Depth: 1 | Train acc: 0.84 | Test acc: 0.84\n",
      "Depth: 3 | Train acc: 0.85 | Test acc: 0.85\n",
      "Depth: 5 | Train acc: 0.85 | Test acc: 0.85\n",
      "Depth: 7 | Train acc: 0.84 | Test acc: 0.84\n",
      "Depth: 9 | Train acc: 0.84 | Test acc: 0.83\n",
      "Depth: 20 | Train acc: 0.95 | Test acc: 0.79\n",
      "Depth: 50 | Train acc: 1.00 | Test acc: 0.78\n",
      "Depth: 100 | Train acc: 1.00 | Test acc: 0.78\n"
     ]
    }
   ],
   "source": [
    "threshold = 0.4\n",
    "depths = [1, 3, 5, 7, 9, 20, 50, 100]\n",
    "for d in depths:\n",
    "    dec_tree = DecisionTreeClassifier(max_depth=d)\n",
    "    dec_tree.fit(x_train, y_train)\n",
    "\n",
    "    train_scores = dec_tree.predict_proba(x_train)[:,1]\n",
    "    test_scores = dec_tree.predict_proba(x_test)[:,1]\n",
    "   \n",
    "    predicted_train = np.array( [calc_threshold(score, threshold) for score in train_scores] )\n",
    "    train_acc = accuracy(predicted_train, y_train)   \n",
    "\n",
    "    predicted_test = np.array( [calc_threshold(score, threshold) for score in test_scores] )\n",
    "    test_acc = accuracy(predicted_test, y_test)\n",
    "    \n",
    "    print(\"Depth: {} | Train acc: {:.2f} | Test acc: {:.2f}\".format(d, train_acc, test_acc))"
   ]
  },
  {
   "cell_type": "code",
   "execution_count": 64,
   "metadata": {},
   "outputs": [],
   "source": [
    "viz = tree.export_graphviz(dec_tree, feature_names=x_train.columns,\n",
    "                           class_names=['Europe', 'Not Europe'],\n",
    "                           rounded=True, filled=True)"
   ]
  },
  {
   "cell_type": "code",
   "execution_count": 68,
   "metadata": {},
   "outputs": [],
   "source": [
    "tree.export_graphviz(dec_tree, out_file='tree.dot') "
   ]
  },
  {
   "cell_type": "code",
   "execution_count": null,
   "metadata": {},
   "outputs": [],
   "source": []
  }
 ],
 "metadata": {
  "kernelspec": {
   "display_name": "Python 3",
   "language": "python",
   "name": "python3"
  },
  "language_info": {
   "codemirror_mode": {
    "name": "ipython",
    "version": 3
   },
   "file_extension": ".py",
   "mimetype": "text/x-python",
   "name": "python",
   "nbconvert_exporter": "python",
   "pygments_lexer": "ipython3",
   "version": "3.7.1"
  }
 },
 "nbformat": 4,
 "nbformat_minor": 2
}
